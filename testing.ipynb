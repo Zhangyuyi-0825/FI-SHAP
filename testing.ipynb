{
  "nbformat": 4,
  "nbformat_minor": 0,
  "metadata": {
    "colab": {
      "provenance": [],
      "authorship_tag": "ABX9TyOkYIJ3fy1kDUuztwYQHRND",
      "include_colab_link": true
    },
    "kernelspec": {
      "name": "python3",
      "display_name": "Python 3"
    },
    "language_info": {
      "name": "python"
    }
  },
  "cells": [
    {
      "cell_type": "markdown",
      "metadata": {
        "id": "view-in-github",
        "colab_type": "text"
      },
      "source": [
        "<a href=\"https://colab.research.google.com/github/Zhangyuyi-0825/FI-SHAP/blob/main/testing.ipynb\" target=\"_parent\"><img src=\"https://colab.research.google.com/assets/colab-badge.svg\" alt=\"Open In Colab\"/></a>"
      ]
    },
    {
      "cell_type": "code",
      "execution_count": null,
      "metadata": {
        "id": "szqawd8_7CYP",
        "colab": {
          "base_uri": "https://localhost:8080/"
        },
        "outputId": "b422cccb-75be-4e3a-92ae-0429b01b265a"
      },
      "outputs": [
        {
          "output_type": "stream",
          "name": "stdout",
          "text": [
            "Collecting catboost\n",
            "  Downloading catboost-1.0.4-cp37-none-manylinux1_x86_64.whl (76.1 MB)\n",
            "\u001b[K     |████████████████████████████████| 76.1 MB 1.2 MB/s \n",
            "\u001b[?25hRequirement already satisfied: graphviz in /usr/local/lib/python3.7/dist-packages (from catboost) (0.10.1)\n",
            "Requirement already satisfied: matplotlib in /usr/local/lib/python3.7/dist-packages (from catboost) (3.2.2)\n",
            "Requirement already satisfied: plotly in /usr/local/lib/python3.7/dist-packages (from catboost) (4.4.1)\n",
            "Requirement already satisfied: pandas>=0.24.0 in /usr/local/lib/python3.7/dist-packages (from catboost) (1.1.5)\n",
            "Requirement already satisfied: scipy in /usr/local/lib/python3.7/dist-packages (from catboost) (1.4.1)\n",
            "Requirement already satisfied: numpy>=1.16.0 in /usr/local/lib/python3.7/dist-packages (from catboost) (1.19.5)\n",
            "Requirement already satisfied: six in /usr/local/lib/python3.7/dist-packages (from catboost) (1.15.0)\n",
            "Requirement already satisfied: python-dateutil>=2.7.3 in /usr/local/lib/python3.7/dist-packages (from pandas>=0.24.0->catboost) (2.8.2)\n",
            "Requirement already satisfied: pytz>=2017.2 in /usr/local/lib/python3.7/dist-packages (from pandas>=0.24.0->catboost) (2018.9)\n",
            "Requirement already satisfied: pyparsing!=2.0.4,!=2.1.2,!=2.1.6,>=2.0.1 in /usr/local/lib/python3.7/dist-packages (from matplotlib->catboost) (3.0.6)\n",
            "Requirement already satisfied: cycler>=0.10 in /usr/local/lib/python3.7/dist-packages (from matplotlib->catboost) (0.11.0)\n",
            "Requirement already satisfied: kiwisolver>=1.0.1 in /usr/local/lib/python3.7/dist-packages (from matplotlib->catboost) (1.3.2)\n",
            "Requirement already satisfied: retrying>=1.3.3 in /usr/local/lib/python3.7/dist-packages (from plotly->catboost) (1.3.3)\n",
            "Installing collected packages: catboost\n",
            "Successfully installed catboost-1.0.4\n"
          ]
        }
      ],
      "source": [
        "!pip install catboost"
      ]
    },
    {
      "cell_type": "code",
      "source": [
        "!pip install shap"
      ],
      "metadata": {
        "colab": {
          "base_uri": "https://localhost:8080/"
        },
        "id": "PYfve3lMWWmP",
        "outputId": "a869d525-886e-4590-9492-667b0674cce0"
      },
      "execution_count": null,
      "outputs": [
        {
          "output_type": "stream",
          "name": "stdout",
          "text": [
            "Collecting shap\n",
            "  Downloading shap-0.40.0-cp37-cp37m-manylinux2010_x86_64.whl (564 kB)\n",
            "\u001b[?25l\r\u001b[K     |▋                               | 10 kB 22.0 MB/s eta 0:00:01\r\u001b[K     |█▏                              | 20 kB 18.6 MB/s eta 0:00:01\r\u001b[K     |█▊                              | 30 kB 18.9 MB/s eta 0:00:01\r\u001b[K     |██▎                             | 40 kB 11.6 MB/s eta 0:00:01\r\u001b[K     |███                             | 51 kB 4.8 MB/s eta 0:00:01\r\u001b[K     |███▌                            | 61 kB 5.2 MB/s eta 0:00:01\r\u001b[K     |████                            | 71 kB 4.6 MB/s eta 0:00:01\r\u001b[K     |████▋                           | 81 kB 5.1 MB/s eta 0:00:01\r\u001b[K     |█████▏                          | 92 kB 5.2 MB/s eta 0:00:01\r\u001b[K     |█████▉                          | 102 kB 4.4 MB/s eta 0:00:01\r\u001b[K     |██████▍                         | 112 kB 4.4 MB/s eta 0:00:01\r\u001b[K     |███████                         | 122 kB 4.4 MB/s eta 0:00:01\r\u001b[K     |███████▌                        | 133 kB 4.4 MB/s eta 0:00:01\r\u001b[K     |████████▏                       | 143 kB 4.4 MB/s eta 0:00:01\r\u001b[K     |████████▊                       | 153 kB 4.4 MB/s eta 0:00:01\r\u001b[K     |█████████▎                      | 163 kB 4.4 MB/s eta 0:00:01\r\u001b[K     |█████████▉                      | 174 kB 4.4 MB/s eta 0:00:01\r\u001b[K     |██████████▍                     | 184 kB 4.4 MB/s eta 0:00:01\r\u001b[K     |███████████                     | 194 kB 4.4 MB/s eta 0:00:01\r\u001b[K     |███████████▋                    | 204 kB 4.4 MB/s eta 0:00:01\r\u001b[K     |████████████▏                   | 215 kB 4.4 MB/s eta 0:00:01\r\u001b[K     |████████████▊                   | 225 kB 4.4 MB/s eta 0:00:01\r\u001b[K     |█████████████▍                  | 235 kB 4.4 MB/s eta 0:00:01\r\u001b[K     |██████████████                  | 245 kB 4.4 MB/s eta 0:00:01\r\u001b[K     |██████████████▌                 | 256 kB 4.4 MB/s eta 0:00:01\r\u001b[K     |███████████████                 | 266 kB 4.4 MB/s eta 0:00:01\r\u001b[K     |███████████████▋                | 276 kB 4.4 MB/s eta 0:00:01\r\u001b[K     |████████████████▎               | 286 kB 4.4 MB/s eta 0:00:01\r\u001b[K     |████████████████▉               | 296 kB 4.4 MB/s eta 0:00:01\r\u001b[K     |█████████████████▍              | 307 kB 4.4 MB/s eta 0:00:01\r\u001b[K     |██████████████████              | 317 kB 4.4 MB/s eta 0:00:01\r\u001b[K     |██████████████████▋             | 327 kB 4.4 MB/s eta 0:00:01\r\u001b[K     |███████████████████▏            | 337 kB 4.4 MB/s eta 0:00:01\r\u001b[K     |███████████████████▊            | 348 kB 4.4 MB/s eta 0:00:01\r\u001b[K     |████████████████████▎           | 358 kB 4.4 MB/s eta 0:00:01\r\u001b[K     |████████████████████▉           | 368 kB 4.4 MB/s eta 0:00:01\r\u001b[K     |█████████████████████▌          | 378 kB 4.4 MB/s eta 0:00:01\r\u001b[K     |██████████████████████          | 389 kB 4.4 MB/s eta 0:00:01\r\u001b[K     |██████████████████████▋         | 399 kB 4.4 MB/s eta 0:00:01\r\u001b[K     |███████████████████████▏        | 409 kB 4.4 MB/s eta 0:00:01\r\u001b[K     |███████████████████████▉        | 419 kB 4.4 MB/s eta 0:00:01\r\u001b[K     |████████████████████████▍       | 430 kB 4.4 MB/s eta 0:00:01\r\u001b[K     |█████████████████████████       | 440 kB 4.4 MB/s eta 0:00:01\r\u001b[K     |█████████████████████████▌      | 450 kB 4.4 MB/s eta 0:00:01\r\u001b[K     |██████████████████████████      | 460 kB 4.4 MB/s eta 0:00:01\r\u001b[K     |██████████████████████████▊     | 471 kB 4.4 MB/s eta 0:00:01\r\u001b[K     |███████████████████████████▎    | 481 kB 4.4 MB/s eta 0:00:01\r\u001b[K     |███████████████████████████▉    | 491 kB 4.4 MB/s eta 0:00:01\r\u001b[K     |████████████████████████████▍   | 501 kB 4.4 MB/s eta 0:00:01\r\u001b[K     |█████████████████████████████   | 512 kB 4.4 MB/s eta 0:00:01\r\u001b[K     |█████████████████████████████▋  | 522 kB 4.4 MB/s eta 0:00:01\r\u001b[K     |██████████████████████████████▏ | 532 kB 4.4 MB/s eta 0:00:01\r\u001b[K     |██████████████████████████████▊ | 542 kB 4.4 MB/s eta 0:00:01\r\u001b[K     |███████████████████████████████▎| 552 kB 4.4 MB/s eta 0:00:01\r\u001b[K     |████████████████████████████████| 563 kB 4.4 MB/s eta 0:00:01\r\u001b[K     |████████████████████████████████| 564 kB 4.4 MB/s \n",
            "\u001b[?25hRequirement already satisfied: scipy in /usr/local/lib/python3.7/dist-packages (from shap) (1.4.1)\n",
            "Requirement already satisfied: numpy in /usr/local/lib/python3.7/dist-packages (from shap) (1.19.5)\n",
            "Requirement already satisfied: numba in /usr/local/lib/python3.7/dist-packages (from shap) (0.51.2)\n",
            "Requirement already satisfied: packaging>20.9 in /usr/local/lib/python3.7/dist-packages (from shap) (21.3)\n",
            "Requirement already satisfied: scikit-learn in /usr/local/lib/python3.7/dist-packages (from shap) (1.0.2)\n",
            "Requirement already satisfied: cloudpickle in /usr/local/lib/python3.7/dist-packages (from shap) (1.3.0)\n",
            "Requirement already satisfied: tqdm>4.25.0 in /usr/local/lib/python3.7/dist-packages (from shap) (4.62.3)\n",
            "Collecting slicer==0.0.7\n",
            "  Downloading slicer-0.0.7-py3-none-any.whl (14 kB)\n",
            "Requirement already satisfied: pandas in /usr/local/lib/python3.7/dist-packages (from shap) (1.1.5)\n",
            "Requirement already satisfied: pyparsing!=3.0.5,>=2.0.2 in /usr/local/lib/python3.7/dist-packages (from packaging>20.9->shap) (3.0.6)\n",
            "Requirement already satisfied: llvmlite<0.35,>=0.34.0.dev0 in /usr/local/lib/python3.7/dist-packages (from numba->shap) (0.34.0)\n",
            "Requirement already satisfied: setuptools in /usr/local/lib/python3.7/dist-packages (from numba->shap) (57.4.0)\n",
            "Requirement already satisfied: pytz>=2017.2 in /usr/local/lib/python3.7/dist-packages (from pandas->shap) (2018.9)\n",
            "Requirement already satisfied: python-dateutil>=2.7.3 in /usr/local/lib/python3.7/dist-packages (from pandas->shap) (2.8.2)\n",
            "Requirement already satisfied: six>=1.5 in /usr/local/lib/python3.7/dist-packages (from python-dateutil>=2.7.3->pandas->shap) (1.15.0)\n",
            "Requirement already satisfied: threadpoolctl>=2.0.0 in /usr/local/lib/python3.7/dist-packages (from scikit-learn->shap) (3.0.0)\n",
            "Requirement already satisfied: joblib>=0.11 in /usr/local/lib/python3.7/dist-packages (from scikit-learn->shap) (1.1.0)\n",
            "Installing collected packages: slicer, shap\n",
            "Successfully installed shap-0.40.0 slicer-0.0.7\n"
          ]
        }
      ]
    },
    {
      "cell_type": "code",
      "source": [
        "import numpy as np\n",
        "import pandas as pd\n",
        "import matplotlib.pyplot as plt\n",
        "import seaborn as sns\n",
        "sns.set(style=\"white\", context={'axes.labelsize':18,\n",
        "                                'xtick.labelsize':15,\n",
        "                                'ytick.labelsize':15})\n",
        "import warnings\n",
        "warnings.filterwarnings('ignore')\n",
        "\n",
        "import datetime as dt\n",
        "import matplotlib.dates as mdates\n",
        "\n",
        "from sklearn.metrics import mean_squared_error,r2_score\n",
        "from math import sqrt\n",
        "\n",
        "import xgboost as xgb\n",
        "from xgboost import XGBRegressor\n",
        "import lightgbm as lgb\n",
        "import catboost as cab\n",
        "from catboost import CatBoostRegressor\n",
        "import shap"
      ],
      "metadata": {
        "id": "sqjn_YNFWYFx"
      },
      "execution_count": null,
      "outputs": []
    },
    {
      "cell_type": "code",
      "source": [
        "from google.colab import drive\n",
        "drive.mount('/content/drive')"
      ],
      "metadata": {
        "colab": {
          "base_uri": "https://localhost:8080/"
        },
        "id": "r__eNd_9WhVT",
        "outputId": "eec4470f-9350-49c2-a438-382fdac47173"
      },
      "execution_count": null,
      "outputs": [
        {
          "output_type": "stream",
          "name": "stdout",
          "text": [
            "Mounted at /content/drive\n"
          ]
        }
      ]
    },
    {
      "cell_type": "code",
      "source": [
        "gen_1=pd.read_csv('drive/My Drive/Solar_Power_data/Plant_1_Generation_Data.csv')\n",
        "gen_1.drop('PLANT_ID',1,inplace=True)\n",
        "sens_1= pd.read_csv('drive/My Drive/Solar_Power_data/Plant_1_Weather_Sensor_Data.csv')\n",
        "sens_1.drop('PLANT_ID',1,inplace=True)\n",
        "sens_1.drop('SOURCE_KEY',1,inplace=True)"
      ],
      "metadata": {
        "id": "ADEhuySDWjc-"
      },
      "execution_count": null,
      "outputs": []
    },
    {
      "cell_type": "code",
      "source": [
        "gen_2=pd.read_csv('drive/My Drive/Solar_Power_data/Plant_2_Generation_Data.csv')\n",
        "gen_2.drop('PLANT_ID',1,inplace=True)\n",
        "sens_2= pd.read_csv('drive/My Drive/Solar_Power_data/Plant_2_Weather_Sensor_Data.csv')\n",
        "sens_2.drop('PLANT_ID',1,inplace=True)\n",
        "sens_2.drop('SOURCE_KEY',1,inplace=True)"
      ],
      "metadata": {
        "id": "fj7dca4aWn-X"
      },
      "execution_count": null,
      "outputs": []
    },
    {
      "cell_type": "code",
      "source": [
        "#format datetime\n",
        "gen_1['DATE_TIME']= pd.to_datetime(gen_1['DATE_TIME'],format='%d-%m-%Y %H:%M')\n",
        "sens_1['DATE_TIME']= pd.to_datetime(sens_1['DATE_TIME'],format='%Y-%m-%d %H:%M:%S')"
      ],
      "metadata": {
        "id": "LbQjxezDWpiW"
      },
      "execution_count": null,
      "outputs": []
    },
    {
      "cell_type": "code",
      "source": [
        "#format datetime\n",
        "gen_2['DATE_TIME']= pd.to_datetime(gen_2['DATE_TIME'],format='%Y-%m-%d %H:%M:%S')\n",
        "sens_2['DATE_TIME']= pd.to_datetime(sens_2['DATE_TIME'],format='%Y-%m-%d %H:%M:%S')"
      ],
      "metadata": {
        "id": "IZzBls0VWsu8"
      },
      "execution_count": null,
      "outputs": []
    },
    {
      "cell_type": "code",
      "source": [
        "fig, ax = plt.subplots(figsize=(8, 6))\n",
        "plot = sns.countplot(y=\"SOURCE_KEY\", data=gen_1, palette=['dodgerblue']).set_title('SOURCE_KEY from Plant_1', fontsize=16)\n",
        "plt.yticks(fontsize=14)\n",
        "plt.xlabel(\"Count\", fontsize=15)\n",
        "plt.ylabel(\"SOURCE_KEY number\", fontsize=15)\n",
        "plt.show(plot)"
      ],
      "metadata": {
        "colab": {
          "base_uri": "https://localhost:8080/",
          "height": 416
        },
        "id": "TlAV6sr7Wt2E",
        "outputId": "048fa9b2-3731-4b63-c325-abdc7fd56b8a"
      },
      "execution_count": null,
      "outputs": [
        {
          "output_type": "display_data",
          "data": {
            "image/png": "[encoded data removed]",
            "text/plain": [
              "<Figure size 576x432 with 1 Axes>"
            ]
          },
          "metadata": {}
        }
      ]
    },
    {
      "cell_type": "code",
      "source": [
        "fig, ax = plt.subplots(figsize=(8, 6))\n",
        "plot = sns.countplot(y=\"SOURCE_KEY\", data=gen_2, palette=['dodgerblue']).set_title('SOURCE_KEY from Plant_2', fontsize=16)\n",
        "plt.yticks(fontsize=14)\n",
        "plt.xlabel(\"Count\", fontsize=15)\n",
        "plt.ylabel(\"SOURCE_KEY number\", fontsize=15)\n",
        "plt.show(plot)"
      ],
      "metadata": {
        "colab": {
          "base_uri": "https://localhost:8080/",
          "height": 416
        },
        "id": "Dr-xY71fWvMD",
        "outputId": "000b4274-f295-4b63-f6a3-0ceca8915409"
      },
      "execution_count": null,
      "outputs": [
        {
          "output_type": "display_data",
          "data": {
            "image/png": "[encoded data removed]",
            "text/plain": [
              "<Figure size 576x432 with 1 Axes>"
            ]
          },
          "metadata": {}
        }
      ]
    },
    {
      "cell_type": "markdown",
      "source": [
        "## Splite dataframe based on source_key"
      ],
      "metadata": {
        "id": "Rt-AANVcWz4t"
      }
    },
    {
      "cell_type": "code",
      "source": [
        "print(list(set(gen_1['SOURCE_KEY'])))"
      ],
      "metadata": {
        "colab": {
          "base_uri": "https://localhost:8080/"
        },
        "id": "Bun3TX58WzVS",
        "outputId": "ac5628b1-904f-4834-d849-b1fcdb193205"
      },
      "execution_count": null,
      "outputs": [
        {
          "output_type": "stream",
          "name": "stdout",
          "text": [
            "['7JYdWkrLSPkdwr4', 'YxYtjZvoooNbGkE', 'bvBOhCH3iADSZry', 'zBIq5rxdHJRwDNY', '3PZuoBAID5Wc2HD', 'pkci93gMrogZuBj', 'McdE0feGgRqW7Ca', 'zVJPv84UY57bAof', 'iCRJl6heRkivqQ3', 'z9Y9gH1T5YWrNuG', '1IF53ai7Xc0U56Y', 'WRmjgnKYAwPKWDb', '1BY6WEcLGh8j5v7', 'VHMLBKoKgIrUVDU', 'ZoEaEvLYb1n2sOq', 'uHbuxQJl8lW7ozc', 'wCURE6d3bPkepu2', 'ZnxXDlPa8U1GXgE', 'sjndEbLyjtCKgGv', 'rGa61gmuvPhdLxV', 'adLQvlD726eNBSB', 'ih0vzX44oOqAx2f']\n"
          ]
        }
      ]
    },
    {
      "cell_type": "code",
      "source": [
        "#固定字表格的顺序\n",
        "source_key_1 = ['zBIq5rxdHJRwDNY','WRmjgnKYAwPKWDb','VHMLBKoKgIrUVDU','rGa61gmuvPhdLxV',\n",
        "                'zVJPv84UY57bAof','1BY6WEcLGh8j5v7','sjndEbLyjtCKgGv','7JYdWkrLSPkdwr4',\n",
        "                '1IF53ai7Xc0U56Y','pkci93gMrogZuBj','uHbuxQJl8lW7ozc','YxYtjZvoooNbGkE',\n",
        "                'ZnxXDlPa8U1GXgE','ZoEaEvLYb1n2sOq','z9Y9gH1T5YWrNuG','wCURE6d3bPkepu2',\n",
        "                'bvBOhCH3iADSZry','iCRJl6heRkivqQ3','McdE0feGgRqW7Ca','adLQvlD726eNBSB',\n",
        "                'ih0vzX44oOqAx2f','3PZuoBAID5Wc2HD']"
      ],
      "metadata": {
        "id": "LXChxUYtWwxd"
      },
      "execution_count": null,
      "outputs": []
    },
    {
      "cell_type": "code",
      "source": [
        "len(source_key_1)"
      ],
      "metadata": {
        "colab": {
          "base_uri": "https://localhost:8080/"
        },
        "id": "lOtbCpwQW-ot",
        "outputId": "59709fb7-668a-4ad5-84d8-770192290ddc"
      },
      "execution_count": null,
      "outputs": [
        {
          "output_type": "execute_result",
          "data": {
            "text/plain": [
              "22"
            ]
          },
          "metadata": {},
          "execution_count": 13
        }
      ]
    },
    {
      "cell_type": "code",
      "source": [
        "print(list(set(gen_2['SOURCE_KEY'])))"
      ],
      "metadata": {
        "colab": {
          "base_uri": "https://localhost:8080/"
        },
        "id": "mks4Vs7fW_1g",
        "outputId": "9663716c-90f7-4095-b733-d8d9f4cf0bf8"
      },
      "execution_count": null,
      "outputs": [
        {
          "output_type": "stream",
          "name": "stdout",
          "text": [
            "['WcxssY2VbP4hApt', 'oZZkBaNadn6DNKz', 'V94E5Ben1TlhnDV', 'NgDl19wMapZy17u', 'LlT2YUhhzqhg5Sw', 'q49J1IKaHRwDQnt', '9kRcWv60rDACzjR', 'vOuJvMaM2sgwLmb', 'LYwnQax7tkwH5Cb', 'Et9kgGMDl729KT4', 'xoJJ8DcxJEcupym', 'IQ2d7wF4YD8zU1Q', 'mqwcsP2rE7J0TFp', 'PeE6FRyGXUgsRhN', '4UPUqMRk7TRMgml', '81aHJ1q11NBPMrL', 'Quc1TzYxW2pYoWX', 'Qf4GUc1pJu5T6c6', 'Mx2yZCDsyf6DPfv', 'oZ35aAeoifZaQzV', 'rrq4fwE8jgrTyWY', 'xMbIugepa2P7lBB']\n"
          ]
        }
      ]
    },
    {
      "cell_type": "code",
      "source": [
        "#固定字表格的顺序\n",
        "source_key_2 = ['PeE6FRyGXUgsRhN', 'Qf4GUc1pJu5T6c6', 'Et9kgGMDl729KT4', 'oZZkBaNadn6DNKz', \n",
        "                '81aHJ1q11NBPMrL', 'xMbIugepa2P7lBB', 'IQ2d7wF4YD8zU1Q', 'oZ35aAeoifZaQzV', \n",
        "                'Mx2yZCDsyf6DPfv', 'q49J1IKaHRwDQnt', 'V94E5Ben1TlhnDV', 'Quc1TzYxW2pYoWX', \n",
        "                'LlT2YUhhzqhg5Sw', 'WcxssY2VbP4hApt', 'rrq4fwE8jgrTyWY', 'xoJJ8DcxJEcupym', \n",
        "                '4UPUqMRk7TRMgml', 'vOuJvMaM2sgwLmb', '9kRcWv60rDACzjR', 'NgDl19wMapZy17u', \n",
        "                'LYwnQax7tkwH5Cb', 'mqwcsP2rE7J0TFp']"
      ],
      "metadata": {
        "id": "V8TuCEdbXBE4"
      },
      "execution_count": null,
      "outputs": []
    },
    {
      "cell_type": "code",
      "source": [
        "#创建足够的表格类的变量名\n",
        "def build_df_name(source_key_list,name):\n",
        "    createDataframe = locals()\n",
        "    dataframeList = []\n",
        "    for i in range(0,len(source_key_list)):\n",
        "        createDataframe[name + str(i)] = 'df' + name + str(i)\n",
        "        dataframeList.append(createDataframe[name + str(i)])\n",
        "    return dataframeList\n",
        "\n",
        "#按照制定的特征，拆分表格\n",
        "def build_df(orig_dataset, source_key_list, feature_name):\n",
        "    \n",
        "    name_list = build_df_name(source_key_list, feature_name)\n",
        "    \n",
        "    for n in range(0, len(name_list)):\n",
        "        name_list[n] = pd.DataFrame()\n",
        "        name_list[n] = orig_dataset[orig_dataset[feature_name] == source_key_list[n]]\n",
        "        name_list[n].drop(feature_name,1,inplace=True)\n",
        "        \n",
        "    return name_list"
      ],
      "metadata": {
        "id": "t4hCWTbCXCZU"
      },
      "execution_count": null,
      "outputs": []
    },
    {
      "cell_type": "code",
      "source": [
        "df1 = build_df(gen_1, source_key_1, 'SOURCE_KEY')"
      ],
      "metadata": {
        "id": "LvhcDVx0XEls"
      },
      "execution_count": null,
      "outputs": []
    },
    {
      "cell_type": "code",
      "source": [
        "df2 = build_df(gen_2, source_key_2,'SOURCE_KEY')"
      ],
      "metadata": {
        "id": "Lh3I9lA9XF4Y"
      },
      "execution_count": null,
      "outputs": []
    },
    {
      "cell_type": "code",
      "source": [
        "def mergeDataframe(set_df, add_dataset, feature_name):\n",
        "    for i in range(0,len(set_df)):\n",
        "        set_df[i] = pd.merge(set_df[i],add_dataset,how = 'outer',on = [feature_name])\n",
        "        set_df[i] = set_df[i].dropna(axis = 0, how = 'any')\n",
        "        \n",
        "        set_df[i]['Year'] = pd.to_datetime(set_df[i]['DATE_TIME']).dt.year\n",
        "        set_df[i]['Month'] = pd.to_datetime(set_df[i]['DATE_TIME']).dt.month\n",
        "        set_df[i]['Day'] = pd.to_datetime(set_df[i]['DATE_TIME']).dt.day\n",
        "        set_df[i]['Hour'] = pd.to_datetime(set_df[i]['DATE_TIME']).dt.hour\n",
        "        set_df[i]['Minute'] = pd.to_datetime(set_df[i]['DATE_TIME']).dt.minute\n",
        "        \n",
        "    return set_df"
      ],
      "metadata": {
        "id": "o-9mDNAmXHEh"
      },
      "execution_count": null,
      "outputs": []
    },
    {
      "cell_type": "code",
      "source": [
        "df1 = mergeDataframe(df1, sens_1, 'DATE_TIME')"
      ],
      "metadata": {
        "id": "iQ1DiS0rXJaW"
      },
      "execution_count": null,
      "outputs": []
    },
    {
      "cell_type": "code",
      "source": [
        "df2 = mergeDataframe(df2, sens_2, 'DATE_TIME')"
      ],
      "metadata": {
        "id": "IZfRyeFwXKiJ"
      },
      "execution_count": null,
      "outputs": []
    },
    {
      "cell_type": "code",
      "source": [
        "def xgboost_results(set_df):\n",
        "    acc = []\n",
        "    rmse = []\n",
        "    \n",
        "    for i in range(0, len(set_df)):\n",
        "\n",
        "        train_set = set_df[i][set_df[i]['DATE_TIME']<'2020-06-09 00:00']\n",
        "        test_set  = set_df[i][set_df[i]['DATE_TIME']>='2020-06-09 00:00']\n",
        "        \n",
        "        x_train = train_set.drop(columns={'DATE_TIME','DAILY_YIELD','TOTAL_YIELD'},axis=1)\n",
        "        y_train = train_set.loc[:,['DAILY_YIELD']]\n",
        "        x_test = test_set.drop(columns={'DATE_TIME','DAILY_YIELD','TOTAL_YIELD'},axis=1)\n",
        "        y_test = test_set.loc[:,['DAILY_YIELD']]\n",
        "        \n",
        "        model_xgb = XGBRegressor()\n",
        "        \n",
        "        model_xgb.fit(\n",
        "            x_train, \n",
        "            y_train, \n",
        "            eval_metric=\"rmse\", \n",
        "            eval_set=[(x_train, y_train),(x_test,y_test)], \n",
        "            verbose=False, \n",
        "            early_stopping_rounds = 100)\n",
        "        \n",
        "        prediction = model_xgb.predict(x_test)\n",
        "        r2 = r2_score(y_test,prediction)\n",
        "        RMSE = np.sqrt(mean_squared_error(y_test,prediction))\n",
        "            \n",
        "        acc.append(r2)\n",
        "        rmse.append(RMSE)\n",
        "    \n",
        "    return acc, rmse "
      ],
      "metadata": {
        "id": "Z0_d1zwzXLdx"
      },
      "execution_count": null,
      "outputs": []
    },
    {
      "cell_type": "code",
      "source": [
        "xgb_results_plant1 = xgboost_results(df1)"
      ],
      "metadata": {
        "colab": {
          "base_uri": "https://localhost:8080/"
        },
        "id": "tCG9CNBPXM7R",
        "outputId": "5b14f6e1-b07f-4d73-819e-09fbea89d32b"
      },
      "execution_count": null,
      "outputs": [
        {
          "output_type": "stream",
          "name": "stdout",
          "text": [
            "[17:53:43] WARNING: /workspace/src/objective/regression_obj.cu:152: reg:linear is now deprecated in favor of reg:squarederror.\n",
            "[17:53:43] WARNING: /workspace/src/objective/regression_obj.cu:152: reg:linear is now deprecated in favor of reg:squarederror.\n",
            "[17:53:43] WARNING: /workspace/src/objective/regression_obj.cu:152: reg:linear is now deprecated in favor of reg:squarederror.\n",
            "[17:53:44] WARNING: /workspace/src/objective/regression_obj.cu:152: reg:linear is now deprecated in favor of reg:squarederror.\n",
            "[17:53:44] WARNING: /workspace/src/objective/regression_obj.cu:152: reg:linear is now deprecated in favor of reg:squarederror.\n",
            "[17:53:44] WARNING: /workspace/src/objective/regression_obj.cu:152: reg:linear is now deprecated in favor of reg:squarederror.\n",
            "[17:53:45] WARNING: /workspace/src/objective/regression_obj.cu:152: reg:linear is now deprecated in favor of reg:squarederror.\n",
            "[17:53:45] WARNING: /workspace/src/objective/regression_obj.cu:152: reg:linear is now deprecated in favor of reg:squarederror.\n",
            "[17:53:45] WARNING: /workspace/src/objective/regression_obj.cu:152: reg:linear is now deprecated in favor of reg:squarederror.\n",
            "[17:53:46] WARNING: /workspace/src/objective/regression_obj.cu:152: reg:linear is now deprecated in favor of reg:squarederror.\n",
            "[17:53:46] WARNING: /workspace/src/objective/regression_obj.cu:152: reg:linear is now deprecated in favor of reg:squarederror.\n",
            "[17:53:46] WARNING: /workspace/src/objective/regression_obj.cu:152: reg:linear is now deprecated in favor of reg:squarederror.\n",
            "[17:53:47] WARNING: /workspace/src/objective/regression_obj.cu:152: reg:linear is now deprecated in favor of reg:squarederror.\n",
            "[17:53:47] WARNING: /workspace/src/objective/regression_obj.cu:152: reg:linear is now deprecated in favor of reg:squarederror.\n",
            "[17:53:47] WARNING: /workspace/src/objective/regression_obj.cu:152: reg:linear is now deprecated in favor of reg:squarederror.\n",
            "[17:53:48] WARNING: /workspace/src/objective/regression_obj.cu:152: reg:linear is now deprecated in favor of reg:squarederror.\n",
            "[17:53:48] WARNING: /workspace/src/objective/regression_obj.cu:152: reg:linear is now deprecated in favor of reg:squarederror.\n",
            "[17:53:48] WARNING: /workspace/src/objective/regression_obj.cu:152: reg:linear is now deprecated in favor of reg:squarederror.\n",
            "[17:53:49] WARNING: /workspace/src/objective/regression_obj.cu:152: reg:linear is now deprecated in favor of reg:squarederror.\n",
            "[17:53:49] WARNING: /workspace/src/objective/regression_obj.cu:152: reg:linear is now deprecated in favor of reg:squarederror.\n",
            "[17:53:49] WARNING: /workspace/src/objective/regression_obj.cu:152: reg:linear is now deprecated in favor of reg:squarederror.\n",
            "[17:53:50] WARNING: /workspace/src/objective/regression_obj.cu:152: reg:linear is now deprecated in favor of reg:squarederror.\n"
          ]
        }
      ]
    },
    {
      "cell_type": "code",
      "source": [
        "def sort_and_index(list_name):\n",
        "    max_index = list_name.index(max(list_name))\n",
        "    min_index = list_name.index(min(list_name))\n",
        "    \n",
        "    max_values = float(list_name[max_index])\n",
        "    min_values = float(list_name[min_index])\n",
        "    \n",
        "    return print(\"max is: \",max_values,\"index is: \",max_index,\" ; \",\"min is: \",min_values,\"index is: \",min_index)"
      ],
      "metadata": {
        "id": "229ec6_7XU-o"
      },
      "execution_count": null,
      "outputs": []
    },
    {
      "cell_type": "code",
      "source": [
        "xgb_plant1_accuracy = xgb_results_plant1[0]\n",
        "print(xgb_plant1_accuracy)"
      ],
      "metadata": {
        "colab": {
          "base_uri": "https://localhost:8080/"
        },
        "id": "v8SIGF4_Xcw1",
        "outputId": "0e9fa832-3513-4f85-b0b5-43bddb152e7a"
      },
      "execution_count": null,
      "outputs": [
        {
          "output_type": "stream",
          "name": "stdout",
          "text": [
            "[0.9345738662158236, 0.9402650545623475, 0.9425666864522146, 0.9345480215665836, 0.9382476169423307, 0.9200979039142184, 0.9382144109673068, 0.9416750357872062, 0.9356686073857605, 0.9401023805329111, 0.9416089762575034, 0.9418205448497432, 0.9450682036048136, 0.940364347251895, 0.9450941153683446, 0.9360525052583593, 0.916373653399446, 0.9340062412886068, 0.9421890962142222, 0.9347601180036086, 0.94454896770315, 0.9322539580993406]\n"
          ]
        }
      ]
    },
    {
      "cell_type": "code",
      "source": [
        "sort_and_index(xgb_plant1_accuracy)"
      ],
      "metadata": {
        "colab": {
          "base_uri": "https://localhost:8080/"
        },
        "id": "l9L7sKqkfejy",
        "outputId": "cc6e006f-9a5b-471e-cd97-7d4d7e26ea14"
      },
      "execution_count": null,
      "outputs": [
        {
          "output_type": "stream",
          "name": "stdout",
          "text": [
            "max is:  0.9450941153683446 index is:  14  ;  min is:  0.916373653399446 index is:  16\n"
          ]
        }
      ]
    },
    {
      "cell_type": "code",
      "source": [
        "fig = plt.figure(figsize=(10,4))\n",
        "\n",
        "x = list(range(22))\n",
        "y = xgb_plant1_accuracy\n",
        "\n",
        "\n",
        "sns.barplot(x,y, palette=\"winter_r\")\n",
        "sns.despine(bottom=True)\n",
        "\n",
        "plt.title('Plant_1: XGBoost', fontsize = 22)\n",
        "plt.xlabel('Source_Key id', fontsize = 18)\n",
        "plt.ylabel('Accuracy', fontsize = 18)\n",
        "\n",
        "plt.show()"
      ],
      "metadata": {
        "colab": {
          "base_uri": "https://localhost:8080/",
          "height": 315
        },
        "id": "gUl5K3zvXd_M",
        "outputId": "26cb586b-d700-4ece-a0ef-308b88ef3e22"
      },
      "execution_count": null,
      "outputs": [
        {
          "output_type": "display_data",
          "data": {
            "image/png": "[encoded data removed]",
            "text/plain": [
              "<Figure size 720x288 with 1 Axes>"
            ]
          },
          "metadata": {}
        }
      ]
    },
    {
      "cell_type": "code",
      "source": [
        "xgb_plant1_rmse = xgb_results_plant1[1]\n",
        "print(xgb_plant1_rmse)"
      ],
      "metadata": {
        "colab": {
          "base_uri": "https://localhost:8080/"
        },
        "id": "Fbg4csYmXfmb",
        "outputId": "d69cd6bb-7953-427a-cae3-bc1444071289"
      },
      "execution_count": null,
      "outputs": [
        {
          "output_type": "stream",
          "name": "stdout",
          "text": [
            "[758.804291548878, 729.5341131251247, 725.8066514580163, 768.9985543202192, 749.5339296847399, 758.1877392412073, 740.9928731828675, 713.7077184485039, 773.1511240010899, 735.4683669145829, 732.1558959261293, 714.7027373818684, 704.1441885109773, 723.0391201653135, 687.1992336302227, 752.1608422569083, 763.1207388608697, 776.8902983925323, 729.9945326064224, 787.4657791386807, 686.368918592655, 792.6370679194765]\n"
          ]
        }
      ]
    },
    {
      "cell_type": "code",
      "source": [
        "xgb_results_plant2 = xgboost_results(df2)"
      ],
      "metadata": {
        "colab": {
          "base_uri": "https://localhost:8080/"
        },
        "id": "7s2D3dJjXjGm",
        "outputId": "4e348abb-2898-4628-99d6-4f619d311fd8"
      },
      "execution_count": null,
      "outputs": [
        {
          "output_type": "stream",
          "name": "stdout",
          "text": [
            "[17:53:51] WARNING: /workspace/src/objective/regression_obj.cu:152: reg:linear is now deprecated in favor of reg:squarederror.\n",
            "[17:53:51] WARNING: /workspace/src/objective/regression_obj.cu:152: reg:linear is now deprecated in favor of reg:squarederror.\n",
            "[17:53:51] WARNING: /workspace/src/objective/regression_obj.cu:152: reg:linear is now deprecated in favor of reg:squarederror.\n",
            "[17:53:52] WARNING: /workspace/src/objective/regression_obj.cu:152: reg:linear is now deprecated in favor of reg:squarederror.\n",
            "[17:53:52] WARNING: /workspace/src/objective/regression_obj.cu:152: reg:linear is now deprecated in favor of reg:squarederror.\n",
            "[17:53:52] WARNING: /workspace/src/objective/regression_obj.cu:152: reg:linear is now deprecated in favor of reg:squarederror.\n",
            "[17:53:53] WARNING: /workspace/src/objective/regression_obj.cu:152: reg:linear is now deprecated in favor of reg:squarederror.\n",
            "[17:53:53] WARNING: /workspace/src/objective/regression_obj.cu:152: reg:linear is now deprecated in favor of reg:squarederror.\n",
            "[17:53:53] WARNING: /workspace/src/objective/regression_obj.cu:152: reg:linear is now deprecated in favor of reg:squarederror.\n",
            "[17:53:54] WARNING: /workspace/src/objective/regression_obj.cu:152: reg:linear is now deprecated in favor of reg:squarederror.\n",
            "[17:53:54] WARNING: /workspace/src/objective/regression_obj.cu:152: reg:linear is now deprecated in favor of reg:squarederror.\n",
            "[17:53:54] WARNING: /workspace/src/objective/regression_obj.cu:152: reg:linear is now deprecated in favor of reg:squarederror.\n",
            "[17:53:55] WARNING: /workspace/src/objective/regression_obj.cu:152: reg:linear is now deprecated in favor of reg:squarederror.\n",
            "[17:53:55] WARNING: /workspace/src/objective/regression_obj.cu:152: reg:linear is now deprecated in favor of reg:squarederror.\n",
            "[17:53:55] WARNING: /workspace/src/objective/regression_obj.cu:152: reg:linear is now deprecated in favor of reg:squarederror.\n",
            "[17:53:56] WARNING: /workspace/src/objective/regression_obj.cu:152: reg:linear is now deprecated in favor of reg:squarederror.\n",
            "[17:53:56] WARNING: /workspace/src/objective/regression_obj.cu:152: reg:linear is now deprecated in favor of reg:squarederror.\n",
            "[17:53:57] WARNING: /workspace/src/objective/regression_obj.cu:152: reg:linear is now deprecated in favor of reg:squarederror.\n",
            "[17:53:57] WARNING: /workspace/src/objective/regression_obj.cu:152: reg:linear is now deprecated in favor of reg:squarederror.\n",
            "[17:53:57] WARNING: /workspace/src/objective/regression_obj.cu:152: reg:linear is now deprecated in favor of reg:squarederror.\n",
            "[17:53:58] WARNING: /workspace/src/objective/regression_obj.cu:152: reg:linear is now deprecated in favor of reg:squarederror.\n",
            "[17:53:58] WARNING: /workspace/src/objective/regression_obj.cu:152: reg:linear is now deprecated in favor of reg:squarederror.\n"
          ]
        }
      ]
    },
    {
      "cell_type": "code",
      "source": [
        "xgb_plant2_accuracy = xgb_results_plant2[0]\n",
        "print(xgb_plant2_accuracy)"
      ],
      "metadata": {
        "colab": {
          "base_uri": "https://localhost:8080/"
        },
        "id": "6_NLqkulXlQ8",
        "outputId": "b16fec5b-7053-46b1-bf73-35e0dc3748f1"
      },
      "execution_count": null,
      "outputs": [
        {
          "output_type": "stream",
          "name": "stdout",
          "text": [
            "[0.13246222981715838, 0.1417346304428755, 0.36505784464878266, 0.810793643585558, 0.878671312043763, 0.5351767125125982, 0.10267006715824378, 0.2978015274007568, 0.12431993405928221, 0.36725808383603, 0.7551165039850507, 0.2715485564067228, 0.4153725116119814, 0.1763673164406825, 0.25149492750620817, 0.13462460828945122, 0.0932033740339876, 0.051236121433668735, 0.6898583241408892, 0.17336029835582012, -0.011529407648478207, 0.8139066876146093]\n"
          ]
        }
      ]
    },
    {
      "cell_type": "code",
      "source": [
        "fig = plt.figure(figsize=(10,4))\n",
        "\n",
        "x = list(range(22))\n",
        "y = xgb_plant2_accuracy\n",
        "\n",
        "\n",
        "sns.barplot(x,y, palette=\"winter_r\")\n",
        "sns.despine(bottom=True)\n",
        "\n",
        "plt.title('Plant_2: XGBoost', fontsize = 22)\n",
        "plt.xlabel('Source_Key id', fontsize = 18)\n",
        "plt.ylabel('Accuracy', fontsize = 18)\n",
        "\n",
        "plt.show()"
      ],
      "metadata": {
        "colab": {
          "base_uri": "https://localhost:8080/",
          "height": 315
        },
        "id": "rrUaLrgDXnMp",
        "outputId": "7492e47b-ecfe-4a29-e1d6-77e9433c4a77"
      },
      "execution_count": null,
      "outputs": [
        {
          "output_type": "display_data",
          "data": {
            "image/png": "[encoded data removed]",
            "text/plain": [
              "<Figure size 720x288 with 1 Axes>"
            ]
          },
          "metadata": {}
        }
      ]
    },
    {
      "cell_type": "code",
      "source": [
        "xgb_plant2_rmse = xgb_results_plant2[1]\n",
        "print(xgb_plant2_rmse)"
      ],
      "metadata": {
        "colab": {
          "base_uri": "https://localhost:8080/"
        },
        "id": "MfSYFoyYXotE",
        "outputId": "931f4463-0310-41bd-c38e-5a150c0dab25"
      },
      "execution_count": null,
      "outputs": [
        {
          "output_type": "stream",
          "name": "stdout",
          "text": [
            "[2196.1093082181296, 2219.432273559208, 1310.6829360933407, 1021.5360131613968, 862.0568793677497, 1717.8848605540134, 2417.0878153196195, 1826.9203732193412, 2208.0983703839006, 1801.2175981736327, 1071.1666770356856, 1385.2247440829528, 1658.642914576919, 2068.341620810241, 1792.9448982481615, 2255.5882533044164, 2359.8668037553, 2559.3591497546986, 1231.071965667487, 2233.3040293891872, 2189.3493445365566, 1067.9382440909872]\n"
          ]
        }
      ]
    },
    {
      "cell_type": "code",
      "source": [
        "def lightgbm_results(set_df):\n",
        "    acc = []\n",
        "    rmse = []\n",
        "    \n",
        "    for i in range(0, len(set_df)):\n",
        "        train_set = set_df[i][set_df[i]['DATE_TIME']<'2020-06-09 00:00']\n",
        "        test_set  = set_df[i][set_df[i]['DATE_TIME']>='2020-06-09 00:00']\n",
        "        \n",
        "        x_train = train_set.drop(columns={'DATE_TIME','DAILY_YIELD','TOTAL_YIELD'},axis=1)\n",
        "        y_train = train_set.loc[:,['DAILY_YIELD']]\n",
        "        x_test = test_set.drop(columns={'DATE_TIME','DAILY_YIELD','TOTAL_YIELD'},axis=1)\n",
        "        y_test = test_set.loc[:,['DAILY_YIELD']]\n",
        "        \n",
        "        model_lgb = lgb.LGBMRegressor()\n",
        "        \n",
        "        model_lgb.fit(x_train, y_train,eval_metric=\"rmse\", \n",
        "                            eval_set=[(x_train, y_train)], \n",
        "                            verbose=False, \n",
        "                            early_stopping_rounds = 100)\n",
        "        \n",
        "        prediction = model_lgb.predict(x_test)\n",
        "        r2 = r2_score(y_test,prediction)\n",
        "        RMSE = np.sqrt(mean_squared_error(y_test,prediction))\n",
        "            \n",
        "        acc.append(r2)\n",
        "        rmse.append(RMSE)\n",
        "    \n",
        "    return acc, rmse "
      ],
      "metadata": {
        "id": "AApEG0pHXqpO"
      },
      "execution_count": null,
      "outputs": []
    },
    {
      "cell_type": "code",
      "source": [
        "lgb_results_plant1 = lightgbm_results(df1)"
      ],
      "metadata": {
        "id": "ygDWenYZXtGt"
      },
      "execution_count": null,
      "outputs": []
    },
    {
      "cell_type": "code",
      "source": [
        "lgb_plant1_accuracy = lgb_results_plant1[0]\n",
        "print(lgb_plant1_accuracy)"
      ],
      "metadata": {
        "colab": {
          "base_uri": "https://localhost:8080/"
        },
        "id": "Oosjdp9gXu0f",
        "outputId": "1adcc0f8-3404-4da6-e266-4302e6067766"
      },
      "execution_count": null,
      "outputs": [
        {
          "output_type": "stream",
          "name": "stdout",
          "text": [
            "[0.8920914963125419, 0.8365176750967442, 0.8560506338698766, 0.9143302356707242, 0.914597088343345, 0.7609665991766066, 0.919488463511271, 0.8677258910571021, 0.8310167551201637, 0.9132750393414173, 0.9202611675550683, 0.9126459612049036, 0.8577244741019465, 0.9143457989531297, 0.9391447973584179, 0.9093479555633973, 0.7793245627660363, 0.9141643667087964, 0.9237473411169519, 0.8389461652119309, 0.8641909313438149, 0.8383324040787631]\n"
          ]
        }
      ]
    },
    {
      "cell_type": "code",
      "source": [
        "fig = plt.figure(figsize=(10,4))\n",
        "\n",
        "x = list(range(22))\n",
        "y = lgb_plant1_accuracy\n",
        "\n",
        "\n",
        "sns.barplot(x,y, palette=\"winter_r\")\n",
        "sns.despine(bottom=True)\n",
        "\n",
        "plt.title('Plant_1: LightGBM', fontsize = 22)\n",
        "plt.xlabel('Source_Key id', fontsize = 18)\n",
        "plt.ylabel('Accuracy', fontsize = 18)\n",
        "\n",
        "plt.show()"
      ],
      "metadata": {
        "colab": {
          "base_uri": "https://localhost:8080/",
          "height": 315
        },
        "id": "Qz2TLk1sXwUe",
        "outputId": "1affc267-9ad3-4fc5-9cdd-ab300f0c1c88"
      },
      "execution_count": null,
      "outputs": [
        {
          "output_type": "display_data",
          "data": {
            "image/png": "[encoded data removed]",
            "text/plain": [
              "<Figure size 720x288 with 1 Axes>"
            ]
          },
          "metadata": {}
        }
      ]
    },
    {
      "cell_type": "code",
      "source": [
        "lgb_plant1_rmse = lgb_results_plant1[1]\n",
        "print(lgb_plant1_rmse)"
      ],
      "metadata": {
        "colab": {
          "base_uri": "https://localhost:8080/"
        },
        "id": "zPaAg6LlXxtR",
        "outputId": "9428cd33-7f33-43ec-a239-68aede3adfd6"
      },
      "execution_count": null,
      "outputs": [
        {
          "output_type": "stream",
          "name": "stdout",
          "text": [
            "[974.5003175855528, 1206.8874502546043, 1149.0631195651054, 879.7877692276581, 881.4562772044353, 1311.3751995385223, 845.8619567920732, 1074.8072204181842, 1253.0682839444526, 884.9755508784716, 855.5895181721188, 875.753971016557, 1133.2214808995666, 866.5290785723632, 723.4725809732516, 895.5457026293755, 1239.6488792307807, 886.0170386066113, 838.382537446783, 1237.2590563270476, 1074.1555493799567, 1224.458034554164]\n"
          ]
        }
      ]
    },
    {
      "cell_type": "code",
      "source": [
        "lgb_results_plant2 = lightgbm_results(df2)"
      ],
      "metadata": {
        "id": "EPaBTJ5QXzgw"
      },
      "execution_count": null,
      "outputs": []
    },
    {
      "cell_type": "code",
      "source": [
        "lgb_plant2_accuracy = lgb_results_plant2[0]\n",
        "print(lgb_plant2_accuracy)"
      ],
      "metadata": {
        "colab": {
          "base_uri": "https://localhost:8080/"
        },
        "id": "XP8gOcjJX1fj",
        "outputId": "59dcaa66-9cd8-4a09-c810-e150439f0fc3"
      },
      "execution_count": null,
      "outputs": [
        {
          "output_type": "stream",
          "name": "stdout",
          "text": [
            "[-0.47280282746920843, -0.9627059597426135, 0.502347628265477, -0.4866876477858544, -0.045213398171449315, -0.17671487766209948, -0.29289578635454583, -0.10793473852774516, -1.0735338469907068, 0.18898112697315106, -0.5469759062824087, 0.2887752615081761, -0.13487379710216296, 0.15573326729609427, 0.40781955060918407, -0.6286200408460278, -0.9557401812155635, -0.14816632439752153, 0.6534978277940677, -0.48766516237522217, 0.04995397953884484, 0.20276947793047595]\n"
          ]
        }
      ]
    },
    {
      "cell_type": "code",
      "source": [
        "fig = plt.figure(figsize=(10,4))\n",
        "\n",
        "x = list(range(22))\n",
        "y = lgb_plant2_accuracy\n",
        "\n",
        "\n",
        "sns.barplot(x,y, palette=\"winter_r\")\n",
        "sns.despine(bottom=True)\n",
        "\n",
        "plt.title('Plant_2: LightGBM', fontsize = 22)\n",
        "plt.xlabel('Source_Key id', fontsize = 18)\n",
        "plt.ylabel('Accuracy', fontsize = 18)\n",
        "\n",
        "plt.show()"
      ],
      "metadata": {
        "colab": {
          "base_uri": "https://localhost:8080/",
          "height": 315
        },
        "id": "C-z5s8OsX3Dg",
        "outputId": "8dcc2657-eeb4-4892-84bb-7d8a086095cf"
      },
      "execution_count": null,
      "outputs": [
        {
          "output_type": "display_data",
          "data": {
            "image/png": "[encoded data removed]",
            "text/plain": [
              "<Figure size 720x288 with 1 Axes>"
            ]
          },
          "metadata": {}
        }
      ]
    },
    {
      "cell_type": "code",
      "source": [
        "lgb_plant2_accuracy = lgb_results_plant2[1]\n",
        "print(lgb_plant2_accuracy)"
      ],
      "metadata": {
        "colab": {
          "base_uri": "https://localhost:8080/"
        },
        "id": "4cGQu9_vX5cf",
        "outputId": "11bedba1-2af3-42cc-a878-4ea4fa0a2683"
      },
      "execution_count": null,
      "outputs": [
        {
          "output_type": "stream",
          "name": "stdout",
          "text": [
            "[2861.422985071653, 3356.284156963731, 1160.362282086906, 2863.4901076804717, 2530.210510308321, 2733.290145613035, 2901.3365663041877, 2294.810183725969, 3397.826897397729, 2039.2400835797573, 2692.2728414499206, 1368.7475779281785, 2310.9314684278083, 2094.089907059524, 1594.7646539954264, 3094.3357928171913, 3465.677306852332, 2815.4937355530565, 1301.236861998557, 2996.0034984955882, 2121.769149148041, 2210.409380403446]\n"
          ]
        }
      ]
    },
    {
      "cell_type": "code",
      "source": [
        "#def catboost_results(set_df):\n",
        "    acc = []\n",
        "    rmse = []\n",
        "    \n",
        "    for i in range(0, len(set_df)):\n",
        "        train_set = set_df[i][set_df[i]['DATE_TIME']<'2020-06-09 00:00']\n",
        "        test_set  = set_df[i][set_df[i]['DATE_TIME']>='2020-06-09 00:00']\n",
        "        \n",
        "        x_train = train_set.drop(columns={'DATE_TIME','DAILY_YIELD','TOTAL_YIELD'},axis=1)\n",
        "        y_train = train_set.loc[:,['DAILY_YIELD']]\n",
        "        x_test = test_set.drop(columns={'DATE_TIME','DAILY_YIELD','TOTAL_YIELD'},axis=1)\n",
        "        y_test = test_set.loc[:,['DAILY_YIELD']]\n",
        "        \n",
        "        model_cat = CatBoostRegressor(eval_metric='RMSE')\n",
        "\n",
        "        model_cat.fit(x_train, y_train, \n",
        "                        eval_set=[(x_train, y_train)], \n",
        "                        verbose=False, \n",
        "                        early_stopping_rounds = 100)\n",
        "        \n",
        "        prediction = model_cat.predict(x_test)\n",
        "        r2 = r2_score(y_test,prediction)\n",
        "        RMSE = np.sqrt(mean_squared_error(y_test,prediction))\n",
        "            \n",
        "        acc.append(r2)\n",
        "        rmse.append(RMSE)\n",
        "    \n",
        "    return acc, rmse  "
      ],
      "metadata": {
        "id": "f9ERzsNlX-hb"
      },
      "execution_count": null,
      "outputs": []
    },
    {
      "cell_type": "code",
      "source": [
        "cat_results_plant1 = catboost_results(df1)"
      ],
      "metadata": {
        "id": "_quEkyYgYB6i"
      },
      "execution_count": null,
      "outputs": []
    },
    {
      "cell_type": "code",
      "source": [
        "cat_plant1_accuracy = cat_results_plant1[0]\n",
        "print(cat_plant1_accuracy)"
      ],
      "metadata": {
        "colab": {
          "base_uri": "https://localhost:8080/"
        },
        "id": "YuvwQkErYF2S",
        "outputId": "3b896f7b-9f74-46a5-fde1-36a1c219401c"
      },
      "execution_count": null,
      "outputs": [
        {
          "output_type": "stream",
          "name": "stdout",
          "text": [
            "[0.8967409998786591, 0.9085252274323926, 0.909201069378934, 0.9064147596179499, 0.9075184210047886, 0.80424073840842, 0.8915287712992903, 0.9089240715590452, 0.901183438261499, 0.9057465459315863, 0.9063008411325035, 0.8989143993894777, 0.9114952185576215, 0.9024465245348556, 0.923522156108377, 0.8888857006892281, 0.8107228242940575, 0.8996527572178354, 0.8985655735329466, 0.892842578811181, 0.9057908718825358, 0.8904356076851634]\n"
          ]
        }
      ]
    },
    {
      "cell_type": "code",
      "source": [
        "fig = plt.figure(figsize=(10,4))\n",
        "\n",
        "x = list(range(22))\n",
        "y = cat_plant1_accuracy\n",
        "\n",
        "\n",
        "sns.barplot(x,y, palette=\"winter_r\")\n",
        "sns.despine(bottom=True)\n",
        "\n",
        "plt.title('Plant_1: CatBoost', fontsize = 22)\n",
        "plt.xlabel('Source_Key id', fontsize = 18)\n",
        "plt.ylabel('Accuracy', fontsize = 18)\n",
        "\n",
        "plt.show()"
      ],
      "metadata": {
        "colab": {
          "base_uri": "https://localhost:8080/",
          "height": 315
        },
        "id": "pobxJ1VaYLhY",
        "outputId": "81de76b1-6861-4cd2-db7a-c07b0a79b588"
      },
      "execution_count": null,
      "outputs": [
        {
          "output_type": "display_data",
          "data": {
            "image/png": "[encoded data removed]",
            "text/plain": [
              "<Figure size 720x288 with 1 Axes>"
            ]
          },
          "metadata": {}
        }
      ]
    },
    {
      "cell_type": "code",
      "source": [
        "cat_plant1_rmse = cat_results_plant1[1]\n",
        "print(cat_plant1_rmse)"
      ],
      "metadata": {
        "colab": {
          "base_uri": "https://localhost:8080/"
        },
        "id": "QVDvo6xbYMtT",
        "outputId": "f2a32cb3-53ee-4a9f-f018-9fa0d4fcf828"
      },
      "execution_count": null,
      "outputs": [
        {
          "output_type": "stream",
          "name": "stdout",
          "text": [
            "[953.2747888834972, 902.7802258667181, 912.5977089111796, 919.5340468569556, 917.2591532752654, 1186.7488785884727, 981.8105966395449, 891.856448091834, 958.2256336328193, 922.5881119737429, 927.4667850190499, 942.0745434433104, 893.7850074375491, 924.7624354085222, 811.0376914057357, 991.4799328580106, 1148.0764742935726, 957.9900267520849, 966.9575682494359, 1009.2208937831526, 894.6420010098567, 1008.0153193102046]\n"
          ]
        }
      ]
    },
    {
      "cell_type": "code",
      "source": [
        "cat_results_plant2 = catboost_results(df2)"
      ],
      "metadata": {
        "id": "b7YqdQDiYOoA"
      },
      "execution_count": null,
      "outputs": []
    },
    {
      "cell_type": "code",
      "source": [
        "cat_plant2_accuracy = cat_results_plant2[0]\n",
        "print(cat_plant2_accuracy)"
      ],
      "metadata": {
        "colab": {
          "base_uri": "https://localhost:8080/"
        },
        "id": "JeB1pSRNYQL0",
        "outputId": "7dc3252a-a62d-4677-ecc0-f9003eca1a53"
      },
      "execution_count": null,
      "outputs": [
        {
          "output_type": "stream",
          "name": "stdout",
          "text": [
            "[-0.25816835377666436, -0.5377432607987955, 0.43831724503566416, 0.172654149653804, 0.41404565400203597, -0.09159405170824764, -0.08371155661474128, 0.23255941782267486, -0.5462591237635057, 0.4311639177283896, -0.46613868541597947, 0.30380953443010683, 0.2508646318196779, 0.33552777489480246, 0.36481146924677843, -0.15284559329032144, -0.34292695354355485, -0.12244346330673972, 0.7845793610067372, -0.2665282879881101, 0.19999582522099468, 0.2862370798738596]\n"
          ]
        }
      ]
    },
    {
      "cell_type": "code",
      "source": [
        "fig = plt.figure(figsize=(10,4))\n",
        "\n",
        "x = list(range(22))\n",
        "y = cat_plant2_accuracy\n",
        "\n",
        "\n",
        "sns.barplot(x,y, palette=\"winter_r\")\n",
        "sns.despine(bottom=True)\n",
        "\n",
        "plt.title('Plant_2: CatBoost', fontsize = 22)\n",
        "plt.xlabel('Source_Key id', fontsize = 18)\n",
        "plt.ylabel('Accuracy', fontsize = 18)\n",
        "\n",
        "plt.show()"
      ],
      "metadata": {
        "colab": {
          "base_uri": "https://localhost:8080/",
          "height": 315
        },
        "id": "UH5mNLdpYSdL",
        "outputId": "7dfa906c-75b4-4c50-b1e6-90f7807fab6d"
      },
      "execution_count": null,
      "outputs": [
        {
          "output_type": "display_data",
          "data": {
            "image/png": "[encoded data removed]",
            "text/plain": [
              "<Figure size 720x288 with 1 Axes>"
            ]
          },
          "metadata": {}
        }
      ]
    },
    {
      "cell_type": "code",
      "source": [
        "cat_plant2_rmse = cat_results_plant2[1]\n",
        "print(cat_plant2_rmse)"
      ],
      "metadata": {
        "colab": {
          "base_uri": "https://localhost:8080/"
        },
        "id": "-tx4nwLvYSvV",
        "outputId": "25386764-3645-4454-c234-552a081eca39"
      },
      "execution_count": null,
      "outputs": [
        {
          "output_type": "stream",
          "name": "stdout",
          "text": [
            "[2644.7165652921453, 2970.7972859452047, 1232.7531174892338, 2136.1383013639233, 1894.4627102367767, 2632.5746414679693, 2656.2760338161524, 1909.9062906449587, 2934.1804767383446, 1707.837113410896, 2620.986728907059, 1354.2036255349326, 1877.5583073160917, 1857.7783666432285, 1651.660918725556, 2603.41333789114, 2871.8300703158448, 2783.776731907393, 1025.999222796967, 2764.376337183507, 1947.0268272395183, 2091.4994157564847]\n"
          ]
        }
      ]
    },
    {
      "cell_type": "code",
      "source": [],
      "metadata": {
        "id": "Zktfhpw7hnEn"
      },
      "execution_count": null,
      "outputs": []
    },
    {
      "cell_type": "code",
      "source": [
        "#创建有规律可循的滞后变量名称\n",
        "def build_df_name(source_key_list,name):\n",
        "    createDataframe = locals()\n",
        "    dataframeList = []\n",
        "    for i in range(0,len(source_key_list)):\n",
        "        createDataframe[name + str(i)] = 'lag{}' + name + str(i)\n",
        "        dataframeList.append(createDataframe[name + str(i)])\n",
        "    return dataframeList"
      ],
      "metadata": {
        "id": "0792z1kuhnCo"
      },
      "execution_count": null,
      "outputs": []
    },
    {
      "cell_type": "code",
      "source": [
        "#构建带有滞后变量的表格\n",
        "#exp_results必须为 纵向排列的连续型变量的解释结果(continuous_feature)\n",
        "def improve_process(orig_dataset, exp_results, iterations):\n",
        "    \n",
        "    #lag_number = []\n",
        "    #feature_name = []\n",
        "    \n",
        "    sum_values = float(exp_results.iloc[:,0].sum())  #解释结果的总和\n",
        "    sort_exp_results = pd.DataFrame(exp_results[0].sort_values(ascending=False, inplace=False)) #按照解释值给特征排序（降序）\n",
        "    \n",
        "    for i in range(0, len(sort_exp_results)):\n",
        "        \n",
        "        feature_name = list(sort_exp_results.index)   #特征名称\n",
        "        feature_values = float(sort_exp_results.iloc[i,0])  #特征的解释值\n",
        "        number = int((feature_values/sum_values) * iterations)  #lag需要的滞后期数\n",
        "        #lag_number.append(number)\n",
        "                    \n",
        "        if number <= 1:   \n",
        "            break        #如果需要滞后的期数小于等于1，则停止程序（这也是为什么一定要对特征排序的原因）\n",
        "        else:             #期数大于1的话，就可以开始创建滞后变量\n",
        "            data_lag = pd.DataFrame(orig_dataset[feature_name[i]].copy())            #创建滞后变量的中间过渡表格\n",
        "            data_lag.columns = [feature_name[i]]                                     #确保变量名称一致\n",
        "            \n",
        "            lag_name = build_df_name(list(sort_exp_results.index), 'feature')        #创建滞后变量的变量名字\n",
        "            lag_feature_name = lag_name[i]                                           #按顺序选取变量名字\n",
        "            \n",
        "            for n in range(0, (number+1)):\n",
        "                data_lag[lag_feature_name.format(n)] = data_lag[feature_name[i]].shift(n)         #滞后变量的表格\n",
        "            \n",
        "            data_lag_finish = data_lag.drop(columns = [feature_name[i]])                          #剔除原特征，避免最后合并的时候重复\n",
        "        \n",
        "            orig_dataset = pd.concat([orig_dataset,data_lag_finish],axis = 1)                      #合并表格\n",
        "            orig_dataset = orig_dataset.dropna(axis = 0, how = 'any')                              #去除Nan值\n",
        "            orig_dataset = orig_dataset.reset_index(drop=True)                                     #重置索引\n",
        "        \n",
        "    return orig_dataset"
      ],
      "metadata": {
        "id": "zIFsTyWhhnAm"
      },
      "execution_count": null,
      "outputs": []
    },
    {
      "cell_type": "code",
      "source": [
        "\n",
        "def avg_lag(explained_dataset):\n",
        "    l = len(explained_dataset.columns)\n",
        "    list_ones = [1] * l\n",
        "    data = pd.DataFrame(list_ones)\n",
        "    data.index = explained_dataset.columns\n",
        "    \n",
        "    return data\n",
        "\n",
        "def shap_results(model_name, explained_dataset):\n",
        "    \n",
        "    explainer = shap.TreeExplainer(model_name)\n",
        "    shap_values = explainer(explained_dataset,check_additivity=False)\n",
        "    \n",
        "    shap_frame = pd.DataFrame(shap_values.values)\n",
        "    df_global = pd.DataFrame()\n",
        "    \n",
        "    for i in range (0, len(shap_frame.columns)):\n",
        "        shap_values_update = []\n",
        "        each_shap_value = (abs(shap_frame[i]).sum())/len(shap_frame)\n",
        "        \n",
        "        shap_values_update.append(each_shap_value)\n",
        "    \n",
        "        df_global[i] = shap_values_update\n",
        "        del shap_values_update\n",
        "        \n",
        "    df_global.columns = explained_dataset.columns\n",
        "    df_global = df_global.T\n",
        "        \n",
        "    return df_global\n",
        "\n",
        "def fi_results(model_name, explained_dataset):\n",
        "    feature_importance = model_name.feature_importances_\n",
        "    feature_importance = pd.DataFrame(feature_importance)\n",
        "    feature_importance.index = explained_dataset.columns\n",
        "    \n",
        "    return feature_importance\n",
        "\n",
        "def fi_shap_results(fi_all_result, shap_all_result):\n",
        "    \n",
        "    for n in range(0, len(fi_all_result[0])):\n",
        "        \n",
        "        weight_by_fi = (fi_all_result.iloc[n,0])/(fi_all_result[0].sum())\n",
        "        shap_all_result.iloc[n,:] = shap_all_result.iloc[n,:] * weight_by_fi\n",
        "        \n",
        "    return shap_all_result\n",
        "\n",
        "def shap_results_lgb(model_name, explained_dataset):\n",
        "    \n",
        "    explainer = shap.TreeExplainer(model_name)\n",
        "    shap_values = explainer(explained_dataset)\n",
        "    \n",
        "    shap_frame = pd.DataFrame(shap_values.values)\n",
        "    df_global = pd.DataFrame()\n",
        "    \n",
        "    for i in range (0, len(shap_frame.columns)):\n",
        "        shap_values_update = []\n",
        "        each_shap_value = (abs(shap_frame[i]).sum())/len(shap_frame)\n",
        "        \n",
        "        shap_values_update.append(each_shap_value)\n",
        "    \n",
        "        df_global[i] = shap_values_update\n",
        "        del shap_values_update\n",
        "        \n",
        "    df_global.columns = explained_dataset.columns\n",
        "    df_global = df_global.T\n",
        "    return df_global"
      ],
      "metadata": {
        "id": "MfBcpZ0zYUpu"
      },
      "execution_count": null,
      "outputs": []
    },
    {
      "cell_type": "code",
      "source": [
        "len(df2)"
      ],
      "metadata": {
        "colab": {
          "base_uri": "https://localhost:8080/"
        },
        "id": "8P--Oo6oYucG",
        "outputId": "b8ab719d-3d24-4e4d-a5ed-692214e8c033"
      },
      "execution_count": null,
      "outputs": [
        {
          "output_type": "execute_result",
          "data": {
            "text/plain": [
              "22"
            ]
          },
          "metadata": {},
          "execution_count": 44
        }
      ]
    },
    {
      "cell_type": "code",
      "source": [
        "def improve_xgboost(orig_dataset, exp_results, iterations):\n",
        "    \n",
        "    acc = []\n",
        "    rmse = [] \n",
        "    \n",
        "    for i in range(1, iterations):\n",
        "        improve_dataset = improve_process(orig_dataset, exp_results, i)\n",
        "        \n",
        "        train_set = improve_dataset[improve_dataset['DATE_TIME']<'2020-06-09 00:00']\n",
        "        test_set = improve_dataset[improve_dataset['DATE_TIME']>='2020-06-09 00:00']\n",
        "\n",
        "        x_train = train_set.drop(columns={'DATE_TIME','DAILY_YIELD','TOTAL_YIELD'},axis=1)\n",
        "        y_train = train_set.loc[:,['DAILY_YIELD']]\n",
        "\n",
        "        x_test=test_set.drop(columns={'DATE_TIME','DAILY_YIELD','TOTAL_YIELD'},axis=1)\n",
        "        y_test=test_set.loc[:,['DAILY_YIELD']]\n",
        "        \n",
        "        model_xgb = XGBRegressor()\n",
        "\n",
        "        model_xgb.fit(\n",
        "                x_train, \n",
        "                y_train, \n",
        "                eval_metric=\"rmse\", \n",
        "                eval_set=[(x_train, y_train),(x_test,y_test)], \n",
        "                verbose=False, \n",
        "                early_stopping_rounds = 100)\n",
        "        \n",
        "        prediction = model_xgb.predict(x_test)\n",
        "        r2 = r2_score(y_test,prediction)\n",
        "        RMSE = np.sqrt(mean_squared_error(y_test,prediction))\n",
        "            \n",
        "        acc.append(r2)\n",
        "        rmse.append(RMSE)\n",
        "    \n",
        "    return acc, rmse "
      ],
      "metadata": {
        "id": "G3hWtd1cZlSB"
      },
      "execution_count": null,
      "outputs": []
    },
    {
      "cell_type": "code",
      "source": [
        "def improve_lightgbm(orig_dataset, exp_results, iterations):\n",
        "    \n",
        "    acc = []\n",
        "    rmse = [] \n",
        "    \n",
        "    for i in range(1, iterations):\n",
        "        improve_dataset = improve_process(orig_dataset, exp_results, i)\n",
        "        \n",
        "        train_set = improve_dataset[improve_dataset['DATE_TIME']<'2020-06-09 00:00']\n",
        "        test_set = improve_dataset[improve_dataset['DATE_TIME']>='2020-06-09 00:00']\n",
        "\n",
        "        x_train = train_set.drop(columns={'DATE_TIME','DAILY_YIELD','TOTAL_YIELD'},axis=1)\n",
        "        y_train = train_set.loc[:,['DAILY_YIELD']]\n",
        "\n",
        "        x_test=test_set.drop(columns={'DATE_TIME','DAILY_YIELD','TOTAL_YIELD'},axis=1)\n",
        "        y_test=test_set.loc[:,['DAILY_YIELD']]\n",
        "\n",
        "        model_lgb = lgb.LGBMRegressor()\n",
        "        \n",
        "        model_lgb.fit(x_train, y_train,eval_metric=\"rmse\", \n",
        "                        eval_set=[(x_train, y_train)], \n",
        "                        verbose=False, \n",
        "                        early_stopping_rounds = 100)\n",
        "        \n",
        "        prediction = model_lgb.predict(x_test)\n",
        "        r2 = r2_score(y_test,prediction)\n",
        "        RMSE = np.sqrt(mean_squared_error(y_test,prediction))\n",
        "            \n",
        "        acc.append(r2)\n",
        "        rmse.append(RMSE)\n",
        "    \n",
        "    return acc, rmse"
      ],
      "metadata": {
        "id": "2RHZEhFSrj_0"
      },
      "execution_count": null,
      "outputs": []
    },
    {
      "cell_type": "code",
      "source": [],
      "metadata": {
        "id": "WgCUi7yBeYak"
      },
      "execution_count": null,
      "outputs": []
    },
    {
      "cell_type": "code",
      "source": [],
      "metadata": {
        "id": "AZ9TtEVmgwj-"
      },
      "execution_count": null,
      "outputs": []
    },
    {
      "cell_type": "code",
      "source": [
        "r2_xgb_avg = []\n",
        "mse_xgb_avg = []\n",
        "\n",
        "\n",
        "\n",
        "for i in range (0, len(df2)):\n",
        "    df_plant_1 = df2[i]\n",
        "    train_set = df_plant_1[df_plant_1['DATE_TIME']<'2020-06-09 00:00']\n",
        "    test_set  = df_plant_1[df_plant_1['DATE_TIME']>='2020-06-09 00:00']\n",
        "        \n",
        "    x_train = train_set.drop(columns={'DATE_TIME','DAILY_YIELD','TOTAL_YIELD'},axis=1)\n",
        "    y_train = train_set.loc[:,['DAILY_YIELD']]\n",
        "    x_test = test_set.drop(columns={'DATE_TIME','DAILY_YIELD','TOTAL_YIELD'},axis=1)\n",
        "    y_test = test_set.loc[:,['DAILY_YIELD']]\n",
        "\n",
        "    avg_all = avg_lag(x_train)\n",
        "    avg_results = avg_all.drop(index={'Year','Month','Day','Hour','Minute'},axis=0) #手动剔除离散变量\n",
        "\n",
        "\n",
        "\n",
        "    results_by_avg = improve_lightgbm(df_plant_1, avg_results, 100)\n",
        "    r2_avg = max(results_by_avg[0])\n",
        "    r2_xgb_avg.append(r2_avg)\n",
        "\n",
        "    mse_avg = min(results_by_avg[1])\n",
        "    mse_xgb_avg.append(mse_avg)"
      ],
      "metadata": {
        "id": "AyzYG7lTYmox"
      },
      "execution_count": null,
      "outputs": []
    },
    {
      "cell_type": "code",
      "source": [
        "r2_xgb_avg"
      ],
      "metadata": {
        "colab": {
          "base_uri": "https://localhost:8080/"
        },
        "id": "uvPtenX_kKHd",
        "outputId": "b52f8d09-62c1-42d4-cd84-e3bf40fccfc2"
      },
      "execution_count": null,
      "outputs": [
        {
          "output_type": "execute_result",
          "data": {
            "text/plain": [
              "[-0.04230453793051936,\n",
              " -0.314132002956119,\n",
              " 0.5760247819603272,\n",
              " 0.6541916128028318,\n",
              " 0.4050174686083209,\n",
              " 0.0805131898566549,\n",
              " 0.004588489214450653,\n",
              " 0.3185434269528502,\n",
              " -0.5868065604416142,\n",
              " 0.3984339216707876,\n",
              " 0.19123111056962006,\n",
              " 0.3271154337693578,\n",
              " 0.11044944279425939,\n",
              " 0.21371061660693325,\n",
              " 0.4428504511542354,\n",
              " -0.051575276731076425,\n",
              " -0.21034000631592464,\n",
              " 0.013843417442291894,\n",
              " 0.7081627541005533,\n",
              " -0.28865129402558565,\n",
              " 0.1934913212259235,\n",
              " 0.25855897991168686]"
            ]
          },
          "metadata": {},
          "execution_count": 79
        }
      ]
    },
    {
      "cell_type": "code",
      "source": [
        "mse_xgb_avg"
      ],
      "metadata": {
        "colab": {
          "base_uri": "https://localhost:8080/"
        },
        "id": "T_0jQ83MkOjo",
        "outputId": "7e03ee40-1956-498a-b0ec-6d48e1ed48b2"
      },
      "execution_count": null,
      "outputs": [
        {
          "output_type": "execute_result",
          "data": {
            "text/plain": [
              "[2407.1717116833465,\n",
              " 2746.316575860946,\n",
              " 1071.027940092655,\n",
              " 1381.0314912392712,\n",
              " 1909.0015407174733,\n",
              " 2416.1442835349144,\n",
              " 2545.7613038021696,\n",
              " 1799.7358642746797,\n",
              " 2972.40291915022,\n",
              " 1756.2832046433825,\n",
              " 1946.6573501683965,\n",
              " 1331.3437999115083,\n",
              " 2045.9668848833244,\n",
              " 2020.908688812873,\n",
              " 1546.875854326182,\n",
              " 2486.4385876060987,\n",
              " 2726.379060880713,\n",
              " 2609.306534687068,\n",
              " 1194.1908410306435,\n",
              " 2788.415105682431,\n",
              " 1954.926039489824,\n",
              " 2131.6655229161543]"
            ]
          },
          "metadata": {},
          "execution_count": 80
        }
      ]
    },
    {
      "cell_type": "code",
      "source": [
        "r2_results_shap = []\n",
        "mse_results_shap = []\n",
        "\n",
        "\n",
        "\n",
        "for i in range (0, len(df2)):\n",
        "    df_plant_1 = df2[i]\n",
        "    train_set = df_plant_1[df_plant_1['DATE_TIME']<'2020-06-09 00:00']\n",
        "    test_set  = df_plant_1[df_plant_1['DATE_TIME']>='2020-06-09 00:00']\n",
        "        \n",
        "    x_train = train_set.drop(columns={'DATE_TIME','DAILY_YIELD','TOTAL_YIELD'},axis=1)\n",
        "    y_train = train_set.loc[:,['DAILY_YIELD']]\n",
        "    x_test = test_set.drop(columns={'DATE_TIME','DAILY_YIELD','TOTAL_YIELD'},axis=1)\n",
        "    y_test = test_set.loc[:,['DAILY_YIELD']]\n",
        "\n",
        "    model_lgb = lgb.LGBMRegressor()\n",
        "        \n",
        "    model_lgb.fit(x_train, y_train,eval_metric=\"rmse\", \n",
        "                        eval_set=[(x_train, y_train)], \n",
        "                        verbose=False, \n",
        "                        early_stopping_rounds = 100)\n",
        "    \n",
        "    shap_all = shap_results_lgb(model_lgb, x_train)\n",
        "    shapdf_results = shap_all.drop(index={'Year','Month','Day','Hour','Minute'},axis=0) #手动剔除离散变量\n",
        "\n",
        "\n",
        "    results_by_shap = improve_lightgbm(df_plant_1, shapdf_results, 100)\n",
        "    r2_shap = max(results_by_shap[0])\n",
        "    mse_shap = min(results_by_shap[1])\n",
        "    r2_results_shap.append(r2_shap)\n",
        "    mse_results_shap.append(mse_shap)\n"
      ],
      "metadata": {
        "id": "bVcD1OH-kdWU"
      },
      "execution_count": null,
      "outputs": []
    },
    {
      "cell_type": "code",
      "source": [
        "r2_results_shap"
      ],
      "metadata": {
        "id": "kXdJesm8lQe3",
        "colab": {
          "base_uri": "https://localhost:8080/"
        },
        "outputId": "f031471b-fcf3-4859-cdd3-0cb5ad762a91"
      },
      "execution_count": null,
      "outputs": [
        {
          "output_type": "execute_result",
          "data": {
            "text/plain": [
              "[0.248032387873366,\n",
              " 0.20667128986621042,\n",
              " 0.5979700370010101,\n",
              " 0.7706607364849121,\n",
              " 0.9030468043916441,\n",
              " 0.04753608802257692,\n",
              " 0.02221182297781843,\n",
              " 0.3246084473708498,\n",
              " -0.00883132578687329,\n",
              " 0.3097195628074225,\n",
              " 0.6152941086794272,\n",
              " 0.30701997854568175,\n",
              " 0.10781628254209208,\n",
              " 0.5035537154247239,\n",
              " 0.4773048989671034,\n",
              " 0.0006355360653171882,\n",
              " 0.026920483908105086,\n",
              " 0.19042545240935982,\n",
              " 0.9018931715438055,\n",
              " -0.29018066601203074,\n",
              " 0.22490851672227108,\n",
              " 0.3137567363678896]"
            ]
          },
          "metadata": {},
          "execution_count": 82
        }
      ]
    },
    {
      "cell_type": "code",
      "source": [
        "mse_results_shap"
      ],
      "metadata": {
        "id": "FhYzCL59lQc1",
        "colab": {
          "base_uri": "https://localhost:8080/"
        },
        "outputId": "b4d729e4-7e4e-47a2-a5ac-72df574a633b"
      },
      "execution_count": null,
      "outputs": [
        {
          "output_type": "execute_result",
          "data": {
            "text/plain": [
              "[2044.6045577247542,\n",
              " 2133.8195411816755,\n",
              " 1042.941083159373,\n",
              " 1124.6697840807763,\n",
              " 770.6110557508991,\n",
              " 2459.08974207237,\n",
              " 2523.124858357362,\n",
              " 1791.7090648055453,\n",
              " 2370.0361216286574,\n",
              " 1881.332948374149,\n",
              " 1342.5847624936077,\n",
              " 1351.0775996553505,\n",
              " 2048.992782479624,\n",
              " 1605.8006065285726,\n",
              " 1498.2827647862043,\n",
              " 2423.926824311819,\n",
              " 2444.593814718131,\n",
              " 2364.1802546416084,\n",
              " 692.3935205169768,\n",
              " 2790.069261245873,\n",
              " 1916.4711737806804,\n",
              " 2050.783447318571]"
            ]
          },
          "metadata": {},
          "execution_count": 83
        }
      ]
    },
    {
      "cell_type": "code",
      "source": [
        "r2_results_fi = []\n",
        "mse_results_fi = []\n",
        "\n",
        "\n",
        "\n",
        "for i in range (0, len(df2)):\n",
        "    df_plant_1 = df2[i]\n",
        "    train_set = df_plant_1[df_plant_1['DATE_TIME']<'2020-06-09 00:00']\n",
        "    test_set  = df_plant_1[df_plant_1['DATE_TIME']>='2020-06-09 00:00']\n",
        "        \n",
        "    x_train = train_set.drop(columns={'DATE_TIME','DAILY_YIELD','TOTAL_YIELD'},axis=1)\n",
        "    y_train = train_set.loc[:,['DAILY_YIELD']]\n",
        "    x_test = test_set.drop(columns={'DATE_TIME','DAILY_YIELD','TOTAL_YIELD'},axis=1)\n",
        "    y_test = test_set.loc[:,['DAILY_YIELD']]\n",
        "\n",
        "\n",
        "    model_lgb = lgb.LGBMRegressor()\n",
        "        \n",
        "    model_lgb.fit(x_train, y_train,eval_metric=\"rmse\", \n",
        "                        eval_set=[(x_train, y_train)], \n",
        "                        verbose=False, \n",
        "                        early_stopping_rounds = 100)\n",
        "    \n",
        "    fi_all = fi_results(model_lgb, x_train)\n",
        "    fi = fi_all.drop(index={'Year','Month','Day','Hour','Minute'},axis=0) #手动剔除离散变量\n",
        "\n",
        "    results_by_fi = improve_lightgbm(df_plant_1, fi, 100)\n",
        "    r2_fi = max(results_by_fi[0])\n",
        "    mse_fi = min(results_by_fi[1])\n",
        "    r2_results_fi.append(r2_fi)\n",
        "    mse_results_fi.append(mse_fi)"
      ],
      "metadata": {
        "id": "5zZu2fQElQa3"
      },
      "execution_count": null,
      "outputs": []
    },
    {
      "cell_type": "code",
      "source": [
        "r2_results_fi"
      ],
      "metadata": {
        "id": "BUNby92clQYu",
        "colab": {
          "base_uri": "https://localhost:8080/"
        },
        "outputId": "76bd725d-9491-40db-d0be-074cc1efa940"
      },
      "execution_count": null,
      "outputs": [
        {
          "output_type": "execute_result",
          "data": {
            "text/plain": [
              "[0.27882104907604455,\n",
              " -0.061315059486548806,\n",
              " 0.5707057795710194,\n",
              " 0.7144741962629534,\n",
              " 0.8845937308138249,\n",
              " 0.20560460794518753,\n",
              " 0.1695797013261059,\n",
              " 0.39648223831860174,\n",
              " -0.17951335924835066,\n",
              " 0.3675250127513938,\n",
              " 0.5008587394403681,\n",
              " 0.31717369220094915,\n",
              " 0.16810506642562928,\n",
              " 0.17799746144036965,\n",
              " 0.4291378525375744,\n",
              " 0.1274406867882374,\n",
              " 0.01208792886531318,\n",
              " 0.16255333316450926,\n",
              " 0.7292030243247576,\n",
              " -0.2247314474699027,\n",
              " 0.17775950035652632,\n",
              " 0.325519805434604]"
            ]
          },
          "metadata": {},
          "execution_count": 85
        }
      ]
    },
    {
      "cell_type": "code",
      "source": [
        "mse_results_fi"
      ],
      "metadata": {
        "id": "epBYXo3hlQXX",
        "colab": {
          "base_uri": "https://localhost:8080/"
        },
        "outputId": "420b9ceb-574f-4181-c87a-efa6926c4b60"
      },
      "execution_count": null,
      "outputs": [
        {
          "output_type": "execute_result",
          "data": {
            "text/plain": [
              "[2002.3098233333722,\n",
              " 2468.046089270364,\n",
              " 1077.7253173973045,\n",
              " 1254.898216125276,\n",
              " 840.753864333264,\n",
              " 2245.7865242440243,\n",
              " 2325.2268529435905,\n",
              " 1693.6930550145328,\n",
              " 2562.696156384175,\n",
              " 1800.8376266832277,\n",
              " 1529.2871210127596,\n",
              " 1341.1429134117664,\n",
              " 1978.552241331565,\n",
              " 2066.2937620995654,\n",
              " 1565.7960470733624,\n",
              " 2264.9312960028565,\n",
              " 2463.154702916484,\n",
              " 2404.5330019820835,\n",
              " 1150.3375109281008,\n",
              " 2718.3799253510365,\n",
              " 1973.90042690262,\n",
              " 2033.130975513406]"
            ]
          },
          "metadata": {},
          "execution_count": 86
        }
      ]
    },
    {
      "cell_type": "code",
      "source": [
        "r2_results_fi_shap = []\n",
        "mse_results_fi_shap = []\n",
        "\n",
        "\n",
        "\n",
        "for i in range (0, len(df2)):\n",
        "    df_plant_1 = df2[i]\n",
        "    train_set = df_plant_1[df_plant_1['DATE_TIME']<'2020-06-09 00:00']\n",
        "    test_set  = df_plant_1[df_plant_1['DATE_TIME']>='2020-06-09 00:00']\n",
        "        \n",
        "    x_train = train_set.drop(columns={'DATE_TIME','DAILY_YIELD','TOTAL_YIELD'},axis=1)\n",
        "    y_train = train_set.loc[:,['DAILY_YIELD']]\n",
        "    x_test = test_set.drop(columns={'DATE_TIME','DAILY_YIELD','TOTAL_YIELD'},axis=1)\n",
        "    y_test = test_set.loc[:,['DAILY_YIELD']]\n",
        "\n",
        "    model_lgb = lgb.LGBMRegressor()\n",
        "        \n",
        "    model_lgb.fit(x_train, y_train,eval_metric=\"rmse\", \n",
        "                        eval_set=[(x_train, y_train)], \n",
        "                        verbose=False, \n",
        "                        early_stopping_rounds = 100)\n",
        "        \n",
        "    prediction = model_lgb.predict(x_test)\n",
        "    r2 = r2_score(y_test,prediction)\n",
        "    RMSE = np.sqrt(mean_squared_error(y_test,prediction))\n",
        "    \n",
        "    shap_all = shap_results_lgb(model_lgb, x_train)\n",
        "\n",
        "    fi_all = fi_results(model_lgb, x_train)\n",
        "    \n",
        "    fi_shap_all = fi_shap_results(fi_all,shap_all)\n",
        "    fi_shap = fi_shap_all.drop(index={'Year','Month','Day','Hour','Minute'},axis=0) #手动剔除离散变量 \n",
        "\n",
        "    results_by_fi_shap = improve_lightgbm(df_plant_1, fi_shap, 100)\n",
        "    r2_fi_shap = max(results_by_fi_shap[0])\n",
        "    mse_fi_shap = min(results_by_fi_shap[1])\n",
        "\n",
        "    r2_results_fi_shap.append(r2_fi_shap)\n",
        "    mse_results_fi_shap.append(mse_fi_shap)"
      ],
      "metadata": {
        "id": "nyvKGdnolQVG"
      },
      "execution_count": null,
      "outputs": []
    },
    {
      "cell_type": "code",
      "source": [
        "r2_results_fi_shap"
      ],
      "metadata": {
        "id": "OPKybI5hlQTX",
        "colab": {
          "base_uri": "https://localhost:8080/"
        },
        "outputId": "04550c3b-4252-4276-8cee-6f21190f1f6f"
      },
      "execution_count": null,
      "outputs": [
        {
          "output_type": "execute_result",
          "data": {
            "text/plain": [
              "[0.2530037914311255,\n",
              " 0.07457778021249961,\n",
              " 0.5856076668659952,\n",
              " 0.6880980460822501,\n",
              " 0.8894458309211014,\n",
              " 0.13522346953415576,\n",
              " 0.11744402746658256,\n",
              " 0.3560885663661367,\n",
              " 0.02297671105918675,\n",
              " 0.3248300089466427,\n",
              " 0.6705698296466582,\n",
              " 0.29077366525608983,\n",
              " 0.18830312821263806,\n",
              " 0.4034828550102805,\n",
              " 0.47598585059916365,\n",
              " 0.14294962308358117,\n",
              " -0.025441843084225146,\n",
              " 0.16163768024886194,\n",
              " 0.8840535494481956,\n",
              " -0.22240971416075395,\n",
              " 0.18850473619592156,\n",
              " 0.345788464690327]"
            ]
          },
          "metadata": {},
          "execution_count": 88
        }
      ]
    },
    {
      "cell_type": "code",
      "source": [
        "mse_results_fi_shap"
      ],
      "metadata": {
        "id": "A6XhgJT-lQRw",
        "colab": {
          "base_uri": "https://localhost:8080/"
        },
        "outputId": "e55b9c28-aea1-4644-f0a8-3bc8f87a5642"
      },
      "execution_count": null,
      "outputs": [
        {
          "output_type": "execute_result",
          "data": {
            "text/plain": [
              "[2037.8347115689905,\n",
              " 2304.629218938407,\n",
              " 1058.8548257469313,\n",
              " 1311.5802497587315,\n",
              " 822.8899035023746,\n",
              " 2343.160624560734,\n",
              " 2397.1073342730024,\n",
              " 1749.454883782264,\n",
              " 2332.3737419639724,\n",
              " 1860.6275377618895,\n",
              " 1242.3929570992532,\n",
              " 1366.8232674615142,\n",
              " 1954.3854386672153,\n",
              " 1760.219997174855,\n",
              " 1500.1720709741733,\n",
              " 2244.7125192094177,\n",
              " 2509.504973572262,\n",
              " 2405.847184865533,\n",
              " 752.7176610051569,\n",
              " 2715.80207565509,\n",
              " 1960.960309896603,\n",
              " 2002.3493678846837]"
            ]
          },
          "metadata": {},
          "execution_count": 89
        }
      ]
    },
    {
      "cell_type": "code",
      "source": [],
      "metadata": {
        "id": "RRG6CZ8iByfX"
      },
      "execution_count": null,
      "outputs": []
    },
    {
      "cell_type": "code",
      "source": [],
      "metadata": {
        "id": "CCYin_LKBydH"
      },
      "execution_count": null,
      "outputs": []
    },
    {
      "cell_type": "code",
      "source": [],
      "metadata": {
        "id": "7Q4MU2X6ByWm"
      },
      "execution_count": null,
      "outputs": []
    },
    {
      "cell_type": "code",
      "source": [],
      "metadata": {
        "id": "OgD-1hKYByUU"
      },
      "execution_count": null,
      "outputs": []
    }
  ]
}